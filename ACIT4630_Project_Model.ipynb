{
  "nbformat": 4,
  "nbformat_minor": 0,
  "metadata": {
    "colab": {
      "provenance": [],
      "machine_shape": "hm",
      "gpuType": "A100"
    },
    "kernelspec": {
      "name": "python3",
      "display_name": "Python 3"
    },
    "language_info": {
      "name": "python"
    },
    "accelerator": "GPU"
  },
  "cells": [
    {
      "cell_type": "markdown",
      "source": [
        "IMPORTS\n",
        "\n"
      ],
      "metadata": {
        "id": "9oonuNTJfQUo"
      }
    },
    {
      "cell_type": "code",
      "execution_count": null,
      "metadata": {
        "id": "5NVF2L6PYxtH"
      },
      "outputs": [],
      "source": [
        "from google.colab import drive\n",
        "import os\n",
        "import numpy as np\n",
        "import pandas as pd\n",
        "import matplotlib.pyplot as plt\n",
        "from sklearn.preprocessing import StandardScaler\n",
        "from sklearn.model_selection import train_test_split\n",
        "from PIL import Image\n",
        "from concurrent.futures import ThreadPoolExecutor\n",
        "from tensorflow.keras.models import Sequential\n",
        "from tensorflow.keras.layers import Conv2D, MaxPooling2D, Flatten, Dense, Dropout\n",
        "from tensorflow.keras.optimizers import Adam\n",
        "from sklearn.metrics import accuracy_score, classification_report, ConfusionMatrixDisplay,precision_score,f1_score,recall_score\n",
        "import tensorflow as tf\n",
        "import seaborn as sns\n",
        "from tensorflow.keras.applications import VGG16\n",
        "from tensorflow.keras.models import Model"
      ]
    },
    {
      "cell_type": "markdown",
      "source": [
        "Mounting drive and defining filepaths"
      ],
      "metadata": {
        "id": "RmyCQDWkmVNO"
      }
    },
    {
      "cell_type": "code",
      "source": [
        "drive.mount('/content/drive',force_remount=True)\n",
        "rfid1path = '/content/drive/My Drive/Oslomet/RFMiD_1.0/'\n",
        "rfid2path = '/content/drive/My Drive/Oslomet/RFMiD_2.0/'\n",
        "train='Training_set/'\n",
        "val='Validation_set/'\n",
        "test='Test_set/'"
      ],
      "metadata": {
        "id": "VpKDUYGse1F3",
        "colab": {
          "base_uri": "https://localhost:8080/"
        },
        "outputId": "693cb8ca-2669-4954-d151-fc809b099942"
      },
      "execution_count": null,
      "outputs": [
        {
          "output_type": "stream",
          "name": "stdout",
          "text": [
            "Mounted at /content/drive\n"
          ]
        }
      ]
    },
    {
      "cell_type": "markdown",
      "source": [
        "Loading in the labels from rfmid1"
      ],
      "metadata": {
        "id": "US72etpImYms"
      }
    },
    {
      "cell_type": "code",
      "source": [
        "rf1_train_labels=pd.read_csv(rfid1path+train+'RFMiD_1_Training_labels.csv')\n",
        "rf1_val_labels=pd.read_csv(rfid1path+val+'RFMiD_1_Validation_labels.csv')\n",
        "rf1_test_labels=pd.read_csv(rfid1path+test+'RFMiD_1_Testing_labels.csv')"
      ],
      "metadata": {
        "id": "RiyxDkhtZiqy"
      },
      "execution_count": null,
      "outputs": []
    },
    {
      "cell_type": "markdown",
      "source": [
        "Loading in the labels from rfmid2"
      ],
      "metadata": {
        "id": "rYDDhsR9mcXQ"
      }
    },
    {
      "cell_type": "code",
      "source": [
        "rf2_train_labels=pd.read_csv(rfid2path+train+'RFMiD_2_Training_labels.csv')\n",
        "rf2_val_labels=pd.read_csv(rfid2path+val+'RFMiD_2_Validation_labels.csv')\n",
        "rf2_test_labels=pd.read_csv(rfid2path+test+'RFMiD_2_Testing_labels.csv')"
      ],
      "metadata": {
        "id": "J32GHNsfe9EC"
      },
      "execution_count": null,
      "outputs": []
    },
    {
      "cell_type": "markdown",
      "source": [
        "Adding missing columns to each dataset"
      ],
      "metadata": {
        "id": "FuIAgLAXm9o-"
      }
    },
    {
      "cell_type": "code",
      "source": [
        "for col in rf2_train_labels.columns:\n",
        "    if col not in rf1_train_labels.columns:\n",
        "        rf1_train_labels[col]=0\n",
        "        rf1_val_labels[col]=0\n",
        "        rf1_test_labels[col]=0\n",
        "\n",
        "for col in rf1_train_labels.columns:\n",
        "    if col not in rf2_train_labels.columns:\n",
        "        rf2_train_labels[col]=0\n",
        "        rf2_val_labels[col]=0\n",
        "        rf2_test_labels[col]=0"
      ],
      "metadata": {
        "id": "Z5r065cWiL5b"
      },
      "execution_count": null,
      "outputs": []
    },
    {
      "cell_type": "markdown",
      "source": [
        "Combining the labels from both datasets"
      ],
      "metadata": {
        "id": "ouMmWLecnLwh"
      }
    },
    {
      "cell_type": "code",
      "source": [
        "y = pd.concat([rf1_train_labels, rf2_train_labels,rf1_val_labels,rf2_val_labels,rf1_test_labels,rf2_test_labels], ignore_index=True)\n",
        "y.drop(columns=['ID'],inplace=True)\n"
      ],
      "metadata": {
        "id": "S0cQ9ebPkWMk"
      },
      "execution_count": null,
      "outputs": []
    },
    {
      "cell_type": "markdown",
      "source": [
        "Functions for loading in images and transforming to 3D numpy matrices, optimized with multithreading"
      ],
      "metadata": {
        "id": "3KDraRB__fJK"
      }
    },
    {
      "cell_type": "code",
      "source": [
        "def process_image(file_path, target_size):\n",
        "    img = Image.open(file_path)\n",
        "    img = img.resize(target_size)  # Resize image\n",
        "    img_array = np.array(img) / 255.0  # Normalize pixel values\n",
        "    return img_array\n",
        "\n",
        "def load_and_prepare_imgs(directory, target_size=(128, 128), max_workers=8):\n",
        "    # List all image files in the directory\n",
        "    filenames = [f for f in os.listdir(directory) if 'png' in f.lower() or 'jpg' in f.lower()]\n",
        "\n",
        "    # Create the full file paths\n",
        "    file_paths = [os.path.join(directory, f) for f in filenames]\n",
        "\n",
        "    images = []\n",
        "\n",
        "    # Use ThreadPoolExecutor for multithreading\n",
        "    with ThreadPoolExecutor(max_workers=max_workers) as executor:\n",
        "        futures = [executor.submit(process_image, file_path, target_size) for file_path in file_paths]\n",
        "        for future in futures:\n",
        "            images.append(future.result())\n",
        "\n",
        "    images = np.array(images)\n",
        "\n",
        "    return images\n"
      ],
      "metadata": {
        "id": "ozBTrc6OmKYY"
      },
      "execution_count": null,
      "outputs": []
    },
    {
      "cell_type": "markdown",
      "source": [
        "Loading in and transforming images to 3D np matrices"
      ],
      "metadata": {
        "id": "zW4qst6TDc2m"
      }
    },
    {
      "cell_type": "code",
      "source": [
        "rf1_train_images=load_and_prepare_imgs(rfid1path+train)\n",
        "rf1_val_images=load_and_prepare_imgs(rfid1path+val)\n",
        "rf1_test_images=load_and_prepare_imgs(rfid1path+test)\n",
        "\n",
        "rf2_train_images=load_and_prepare_imgs(rfid2path+train)\n",
        "rf2_val_images=load_and_prepare_imgs(rfid2path+val)\n",
        "rf2_test_images=load_and_prepare_imgs(rfid2path+test)"
      ],
      "metadata": {
        "id": "PgGGluREnOUL"
      },
      "execution_count": 10,
      "outputs": []
    },
    {
      "cell_type": "markdown",
      "source": [
        "Combining them into one x"
      ],
      "metadata": {
        "id": "sA450Ec4DkCV"
      }
    },
    {
      "cell_type": "code",
      "source": [
        "x = np.vstack((rf1_train_images, rf2_train_images,rf1_val_images,rf2_val_images,rf1_test_images,rf2_test_images))\n",
        "x.shape"
      ],
      "metadata": {
        "colab": {
          "base_uri": "https://localhost:8080/"
        },
        "id": "7XEUBg1hzo1R",
        "outputId": "038b7273-2329-4e5a-c068-a72f70c11042"
      },
      "execution_count": 11,
      "outputs": [
        {
          "output_type": "execute_result",
          "data": {
            "text/plain": [
              "(4060, 128, 128, 3)"
            ]
          },
          "metadata": {},
          "execution_count": 11
        }
      ]
    },
    {
      "cell_type": "markdown",
      "source": [
        "Identifying columns that have less than 50 true instances and the corresponding rows"
      ],
      "metadata": {
        "id": "gDeNaqgJHNPw"
      }
    },
    {
      "cell_type": "markdown",
      "source": [
        "Dropping those columns and instances"
      ],
      "metadata": {
        "id": "MyFI9ZUlHZAb"
      }
    },
    {
      "cell_type": "code",
      "source": [
        "x_train, x_temp, y_train, y_temp = train_test_split(x, y, test_size=0.4, random_state=42)\n",
        "\n",
        "# Perform the second split to get validation and test sets from the temporary set\n",
        "x_val, x_test, y_val, y_test = train_test_split(x_temp, y_temp, test_size=0.5, random_state=42)\n",
        "\n"
      ],
      "metadata": {
        "id": "iuWnWYKkFddn"
      },
      "execution_count": 12,
      "outputs": []
    },
    {
      "cell_type": "code",
      "source": [
        "def create_cnn_model(input_shape, num_classes):\n",
        "    model = Sequential([\n",
        "        Conv2D(32, (3, 3), activation='relu', input_shape=input_shape),\n",
        "        MaxPooling2D((2, 2)),\n",
        "\n",
        "        Conv2D(64, (3, 3), activation='relu'),\n",
        "        MaxPooling2D((2, 2)),\n",
        "\n",
        "        Conv2D(128, (3, 3), activation='relu'),\n",
        "        MaxPooling2D((2, 2)),\n",
        "\n",
        "        Flatten(),\n",
        "        Dense(128, activation='relu'),\n",
        "        Dropout(0.5),\n",
        "        Dense(num_classes, activation='softmax')\n",
        "    ])\n",
        "\n",
        "    model.compile(optimizer=Adam(learning_rate=0.001),\n",
        "                  loss='categorical_crossentropy',\n",
        "                  metrics=['accuracy'])\n",
        "\n",
        "    return model\n",
        "\n",
        "# Set input shape and number of classes\n",
        "input_shape = (128, 128, 3)\n",
        "num_classes = y_train.shape[1]\n",
        "\n",
        "# Create the model\n",
        "model = create_cnn_model(input_shape, num_classes)\n",
        "\n",
        "# Early stopping and callbacks\n",
        "early_stopping = tf.keras.callbacks.EarlyStopping(monitor='val_loss', patience=5, restore_best_weights=True)\n",
        "\n",
        "# Train the model\n",
        "history = model.fit(\n",
        "    x_train, y_train,\n",
        "    epochs=1000,\n",
        "    batch_size=500,\n",
        "    validation_data=(x_val, y_val),\n",
        "    callbacks=[early_stopping]\n",
        ")\n",
        "\n",
        "# Plot training and validation curves\n",
        "def plot_training_curves(history):\n",
        "    acc = history.history['accuracy']\n",
        "    val_acc = history.history['val_accuracy']\n",
        "    loss = history.history['loss']\n",
        "    val_loss = history.history['val_loss']\n",
        "    epochs_range = range(len(acc))\n",
        "\n",
        "    plt.figure(figsize=(12, 8))\n",
        "    plt.subplot(1, 2, 1)\n",
        "    plt.plot(epochs_range, acc, label='Training Accuracy')\n",
        "    plt.plot(epochs_range, val_acc, label='Validation Accuracy')\n",
        "    plt.legend(loc='lower right')\n",
        "    plt.title('Training and Validation Accuracy')\n",
        "\n",
        "    plt.subplot(1, 2, 2)\n",
        "    plt.plot(epochs_range, loss, label='Training Loss')\n",
        "    plt.plot(epochs_range, val_loss, label='Validation Loss')\n",
        "    plt.legend(loc='upper right')\n",
        "    plt.title('Training and Validation Loss')\n",
        "    plt.show()\n",
        "\n",
        "plot_training_curves(history)\n",
        "\n",
        "# Evaluate the model on train, val, and test sets\n",
        "train_loss, train_accuracy = model.evaluate(x_train, y_train)\n",
        "val_loss, val_accuracy = model.evaluate(x_val, y_val)\n",
        "test_loss, test_accuracy = model.evaluate(x_test, y_test)\n",
        "\n",
        "print(f\"Train Accuracy: {train_accuracy * 100:.2f}%\")\n",
        "print(f\"Validation Accuracy: {val_accuracy * 100:.2f}%\")\n",
        "print(f\"Test Accuracy: {test_accuracy * 100:.2f}%\")\n",
        "\n",
        "# Get predictions\n",
        "y_train_pred = model.predict(x_train)\n",
        "y_val_pred = model.predict(x_val)\n",
        "y_test_pred = model.predict(x_test)\n",
        "\n",
        "\n",
        "# Convert predictions to binary (0 or 1) based on a threshold (e.g., 0.5)\n",
        "y_train_pred_binary = (y_train_pred > 0.5).astype(int)\n",
        "y_val_pred_binary = (y_val_pred > 0.5).astype(int)\n",
        "y_test_pred_binary = (y_test_pred > 0.5).astype(int)\n",
        "\n",
        "\n",
        "\n"
      ],
      "metadata": {
        "colab": {
          "base_uri": "https://localhost:8080/",
          "height": 1000
        },
        "id": "wkQW6xyF0oCQ",
        "outputId": "1d3d949e-8677-4fff-e44c-8e6f9f60072d"
      },
      "execution_count": 13,
      "outputs": [
        {
          "output_type": "stream",
          "name": "stdout",
          "text": [
            "Epoch 1/1000\n",
            "5/5 [==============================] - 19s 2s/step - loss: 4.8515 - accuracy: 0.1363 - val_loss: 4.1080 - val_accuracy: 0.2032\n",
            "Epoch 2/1000\n",
            "5/5 [==============================] - 1s 187ms/step - loss: 4.5355 - accuracy: 0.1663 - val_loss: 4.0332 - val_accuracy: 0.2254\n",
            "Epoch 3/1000\n",
            "5/5 [==============================] - 1s 187ms/step - loss: 4.4860 - accuracy: 0.1593 - val_loss: 3.9580 - val_accuracy: 0.2254\n",
            "Epoch 4/1000\n",
            "5/5 [==============================] - 1s 194ms/step - loss: 4.4333 - accuracy: 0.1646 - val_loss: 3.9666 - val_accuracy: 0.2254\n",
            "Epoch 5/1000\n",
            "5/5 [==============================] - 1s 184ms/step - loss: 4.4620 - accuracy: 0.1622 - val_loss: 3.8782 - val_accuracy: 0.2500\n",
            "Epoch 6/1000\n",
            "5/5 [==============================] - 1s 181ms/step - loss: 4.4158 - accuracy: 0.1712 - val_loss: 4.0122 - val_accuracy: 0.2254\n",
            "Epoch 7/1000\n",
            "5/5 [==============================] - 1s 182ms/step - loss: 4.4138 - accuracy: 0.1679 - val_loss: 4.0068 - val_accuracy: 0.2549\n",
            "Epoch 8/1000\n",
            "5/5 [==============================] - 1s 181ms/step - loss: 4.7430 - accuracy: 0.1675 - val_loss: 3.9225 - val_accuracy: 0.2340\n",
            "Epoch 9/1000\n",
            "5/5 [==============================] - 1s 181ms/step - loss: 4.4700 - accuracy: 0.1634 - val_loss: 4.1354 - val_accuracy: 0.2475\n",
            "Epoch 10/1000\n",
            "5/5 [==============================] - 1s 186ms/step - loss: 4.8880 - accuracy: 0.1420 - val_loss: 4.1189 - val_accuracy: 0.2340\n"
          ]
        },
        {
          "output_type": "display_data",
          "data": {
            "text/plain": [
              "<Figure size 1200x800 with 2 Axes>"
            ],
            "image/png": "[encoded data removed]"
          },
          "metadata": {}
        },
        {
          "output_type": "stream",
          "name": "stdout",
          "text": [
            "77/77 [==============================] - 1s 7ms/step - loss: 3.8076 - accuracy: 0.2315\n",
            "26/26 [==============================] - 0s 9ms/step - loss: 3.8782 - accuracy: 0.2500\n",
            "26/26 [==============================] - 0s 6ms/step - loss: 3.7337 - accuracy: 0.2438\n",
            "Train Accuracy: 23.15%\n",
            "Validation Accuracy: 25.00%\n",
            "Test Accuracy: 24.38%\n",
            "77/77 [==============================] - 0s 4ms/step\n",
            "26/26 [==============================] - 0s 4ms/step\n",
            "26/26 [==============================] - 0s 4ms/step\n"
          ]
        }
      ]
    },
    {
      "cell_type": "code",
      "source": [
        "def evaluate_model(y_true, y_pred):\n",
        "    cols=y.columns\n",
        "    predcols=[]\n",
        "    for col in cols:\n",
        "        predcols.append(col+'_pred')\n",
        "\n",
        "    y_pred_df = pd.DataFrame(y_pred, columns=predcols)\n",
        "    y_true.reset_index(drop=True, inplace=True)\n",
        "    y_pred_df.reset_index(drop=True, inplace=True)\n",
        "    combined_df = pd.concat([y_true, y_pred_df], axis=1)\n",
        "    rows=[]\n",
        "    for col in cols:\n",
        "        acc=accuracy_score(combined_df[col],combined_df[col+'_pred'])\n",
        "        prec=precision_score(combined_df[col],combined_df[col+'_pred'])\n",
        "        f1=f1_score(combined_df[col],combined_df[col+'_pred'])\n",
        "        re=recall_score(combined_df[col],combined_df[col+'_pred'])\n",
        "        rows.append([col,acc,prec,f1,re])\n",
        "    df=pd.DataFrame(rows,columns=['Class','Accuracy','Precision','F1','Recall'])\n",
        "    return df\n",
        "\n",
        "df=evaluate_model(y_test,y_test_pred_binary)\n",
        "\n",
        "\n",
        "\n",
        "\n"
      ],
      "metadata": {
        "colab": {
          "base_uri": "https://localhost:8080/"
        },
        "id": "iMY_YmbmOfHB",
        "outputId": "b789523d-c2e4-4b2b-b9e2-302752fcf991"
      },
      "execution_count": 14,
      "outputs": [
        {
          "output_type": "stream",
          "name": "stderr",
          "text": [
            "/usr/local/lib/python3.10/dist-packages/sklearn/metrics/_classification.py:1471: UndefinedMetricWarning: Precision is ill-defined and being set to 0.0 due to no predicted samples. Use `zero_division` parameter to control this behavior.\n",
            "  _warn_prf(average, modifier, msg_start, len(result))\n",
            "/usr/local/lib/python3.10/dist-packages/sklearn/metrics/_classification.py:1471: UndefinedMetricWarning: Precision is ill-defined and being set to 0.0 due to no predicted samples. Use `zero_division` parameter to control this behavior.\n",
            "  _warn_prf(average, modifier, msg_start, len(result))\n",
            "/usr/local/lib/python3.10/dist-packages/sklearn/metrics/_classification.py:1471: UndefinedMetricWarning: Precision is ill-defined and being set to 0.0 due to no predicted samples. Use `zero_division` parameter to control this behavior.\n",
            "  _warn_prf(average, modifier, msg_start, len(result))\n",
            "/usr/local/lib/python3.10/dist-packages/sklearn/metrics/_classification.py:1471: UndefinedMetricWarning: Precision is ill-defined and being set to 0.0 due to no predicted samples. Use `zero_division` parameter to control this behavior.\n",
            "  _warn_prf(average, modifier, msg_start, len(result))\n",
            "/usr/local/lib/python3.10/dist-packages/sklearn/metrics/_classification.py:1471: UndefinedMetricWarning: Precision is ill-defined and being set to 0.0 due to no predicted samples. Use `zero_division` parameter to control this behavior.\n",
            "  _warn_prf(average, modifier, msg_start, len(result))\n",
            "/usr/local/lib/python3.10/dist-packages/sklearn/metrics/_classification.py:1471: UndefinedMetricWarning: Precision is ill-defined and being set to 0.0 due to no predicted samples. Use `zero_division` parameter to control this behavior.\n",
            "  _warn_prf(average, modifier, msg_start, len(result))\n",
            "/usr/local/lib/python3.10/dist-packages/sklearn/metrics/_classification.py:1471: UndefinedMetricWarning: Precision is ill-defined and being set to 0.0 due to no predicted samples. Use `zero_division` parameter to control this behavior.\n",
            "  _warn_prf(average, modifier, msg_start, len(result))\n",
            "/usr/local/lib/python3.10/dist-packages/sklearn/metrics/_classification.py:1471: UndefinedMetricWarning: Precision is ill-defined and being set to 0.0 due to no predicted samples. Use `zero_division` parameter to control this behavior.\n",
            "  _warn_prf(average, modifier, msg_start, len(result))\n",
            "/usr/local/lib/python3.10/dist-packages/sklearn/metrics/_classification.py:1471: UndefinedMetricWarning: Precision is ill-defined and being set to 0.0 due to no predicted samples. Use `zero_division` parameter to control this behavior.\n",
            "  _warn_prf(average, modifier, msg_start, len(result))\n",
            "/usr/local/lib/python3.10/dist-packages/sklearn/metrics/_classification.py:1471: UndefinedMetricWarning: Precision is ill-defined and being set to 0.0 due to no predicted samples. Use `zero_division` parameter to control this behavior.\n",
            "  _warn_prf(average, modifier, msg_start, len(result))\n",
            "/usr/local/lib/python3.10/dist-packages/sklearn/metrics/_classification.py:1471: UndefinedMetricWarning: Precision is ill-defined and being set to 0.0 due to no predicted samples. Use `zero_division` parameter to control this behavior.\n",
            "  _warn_prf(average, modifier, msg_start, len(result))\n",
            "/usr/local/lib/python3.10/dist-packages/sklearn/metrics/_classification.py:1471: UndefinedMetricWarning: Precision is ill-defined and being set to 0.0 due to no predicted samples. Use `zero_division` parameter to control this behavior.\n",
            "  _warn_prf(average, modifier, msg_start, len(result))\n",
            "/usr/local/lib/python3.10/dist-packages/sklearn/metrics/_classification.py:1471: UndefinedMetricWarning: Precision is ill-defined and being set to 0.0 due to no predicted samples. Use `zero_division` parameter to control this behavior.\n",
            "  _warn_prf(average, modifier, msg_start, len(result))\n",
            "/usr/local/lib/python3.10/dist-packages/sklearn/metrics/_classification.py:1471: UndefinedMetricWarning: Precision is ill-defined and being set to 0.0 due to no predicted samples. Use `zero_division` parameter to control this behavior.\n",
            "  _warn_prf(average, modifier, msg_start, len(result))\n",
            "/usr/local/lib/python3.10/dist-packages/sklearn/metrics/_classification.py:1471: UndefinedMetricWarning: Precision is ill-defined and being set to 0.0 due to no predicted samples. Use `zero_division` parameter to control this behavior.\n",
            "  _warn_prf(average, modifier, msg_start, len(result))\n",
            "/usr/local/lib/python3.10/dist-packages/sklearn/metrics/_classification.py:1471: UndefinedMetricWarning: Precision is ill-defined and being set to 0.0 due to no predicted samples. Use `zero_division` parameter to control this behavior.\n",
            "  _warn_prf(average, modifier, msg_start, len(result))\n",
            "/usr/local/lib/python3.10/dist-packages/sklearn/metrics/_classification.py:1471: UndefinedMetricWarning: Precision is ill-defined and being set to 0.0 due to no predicted samples. Use `zero_division` parameter to control this behavior.\n",
            "  _warn_prf(average, modifier, msg_start, len(result))\n",
            "/usr/local/lib/python3.10/dist-packages/sklearn/metrics/_classification.py:1471: UndefinedMetricWarning: Precision is ill-defined and being set to 0.0 due to no predicted samples. Use `zero_division` parameter to control this behavior.\n",
            "  _warn_prf(average, modifier, msg_start, len(result))\n",
            "/usr/local/lib/python3.10/dist-packages/sklearn/metrics/_classification.py:1471: UndefinedMetricWarning: Precision is ill-defined and being set to 0.0 due to no predicted samples. Use `zero_division` parameter to control this behavior.\n",
            "  _warn_prf(average, modifier, msg_start, len(result))\n",
            "/usr/local/lib/python3.10/dist-packages/sklearn/metrics/_classification.py:1471: UndefinedMetricWarning: Precision is ill-defined and being set to 0.0 due to no predicted samples. Use `zero_division` parameter to control this behavior.\n",
            "  _warn_prf(average, modifier, msg_start, len(result))\n",
            "/usr/local/lib/python3.10/dist-packages/sklearn/metrics/_classification.py:1471: UndefinedMetricWarning: Precision is ill-defined and being set to 0.0 due to no predicted samples. Use `zero_division` parameter to control this behavior.\n",
            "  _warn_prf(average, modifier, msg_start, len(result))\n",
            "/usr/local/lib/python3.10/dist-packages/sklearn/metrics/_classification.py:1471: UndefinedMetricWarning: Precision is ill-defined and being set to 0.0 due to no predicted samples. Use `zero_division` parameter to control this behavior.\n",
            "  _warn_prf(average, modifier, msg_start, len(result))\n",
            "/usr/local/lib/python3.10/dist-packages/sklearn/metrics/_classification.py:1471: UndefinedMetricWarning: Precision is ill-defined and being set to 0.0 due to no predicted samples. Use `zero_division` parameter to control this behavior.\n",
            "  _warn_prf(average, modifier, msg_start, len(result))\n",
            "/usr/local/lib/python3.10/dist-packages/sklearn/metrics/_classification.py:1471: UndefinedMetricWarning: Precision is ill-defined and being set to 0.0 due to no predicted samples. Use `zero_division` parameter to control this behavior.\n",
            "  _warn_prf(average, modifier, msg_start, len(result))\n",
            "/usr/local/lib/python3.10/dist-packages/sklearn/metrics/_classification.py:1471: UndefinedMetricWarning: Precision is ill-defined and being set to 0.0 due to no predicted samples. Use `zero_division` parameter to control this behavior.\n",
            "  _warn_prf(average, modifier, msg_start, len(result))\n",
            "/usr/local/lib/python3.10/dist-packages/sklearn/metrics/_classification.py:1471: UndefinedMetricWarning: Precision is ill-defined and being set to 0.0 due to no predicted samples. Use `zero_division` parameter to control this behavior.\n",
            "  _warn_prf(average, modifier, msg_start, len(result))\n",
            "/usr/local/lib/python3.10/dist-packages/sklearn/metrics/_classification.py:1471: UndefinedMetricWarning: Precision is ill-defined and being set to 0.0 due to no predicted samples. Use `zero_division` parameter to control this behavior.\n",
            "  _warn_prf(average, modifier, msg_start, len(result))\n",
            "/usr/local/lib/python3.10/dist-packages/sklearn/metrics/_classification.py:1471: UndefinedMetricWarning: Precision is ill-defined and being set to 0.0 due to no predicted samples. Use `zero_division` parameter to control this behavior.\n",
            "  _warn_prf(average, modifier, msg_start, len(result))\n",
            "/usr/local/lib/python3.10/dist-packages/sklearn/metrics/_classification.py:1471: UndefinedMetricWarning: Precision is ill-defined and being set to 0.0 due to no predicted samples. Use `zero_division` parameter to control this behavior.\n",
            "  _warn_prf(average, modifier, msg_start, len(result))\n",
            "/usr/local/lib/python3.10/dist-packages/sklearn/metrics/_classification.py:1471: UndefinedMetricWarning: Precision is ill-defined and being set to 0.0 due to no predicted samples. Use `zero_division` parameter to control this behavior.\n",
            "  _warn_prf(average, modifier, msg_start, len(result))\n",
            "/usr/local/lib/python3.10/dist-packages/sklearn/metrics/_classification.py:1471: UndefinedMetricWarning: Precision is ill-defined and being set to 0.0 due to no predicted samples. Use `zero_division` parameter to control this behavior.\n",
            "  _warn_prf(average, modifier, msg_start, len(result))\n",
            "/usr/local/lib/python3.10/dist-packages/sklearn/metrics/_classification.py:1760: UndefinedMetricWarning: F-score is ill-defined and being set to 0.0 due to no true nor predicted samples. Use `zero_division` parameter to control this behavior.\n",
            "  _warn_prf(average, \"true nor predicted\", \"F-score is\", len(true_sum))\n",
            "/usr/local/lib/python3.10/dist-packages/sklearn/metrics/_classification.py:1471: UndefinedMetricWarning: Recall is ill-defined and being set to 0.0 due to no true samples. Use `zero_division` parameter to control this behavior.\n",
            "  _warn_prf(average, modifier, msg_start, len(result))\n",
            "/usr/local/lib/python3.10/dist-packages/sklearn/metrics/_classification.py:1471: UndefinedMetricWarning: Precision is ill-defined and being set to 0.0 due to no predicted samples. Use `zero_division` parameter to control this behavior.\n",
            "  _warn_prf(average, modifier, msg_start, len(result))\n",
            "/usr/local/lib/python3.10/dist-packages/sklearn/metrics/_classification.py:1471: UndefinedMetricWarning: Precision is ill-defined and being set to 0.0 due to no predicted samples. Use `zero_division` parameter to control this behavior.\n",
            "  _warn_prf(average, modifier, msg_start, len(result))\n",
            "/usr/local/lib/python3.10/dist-packages/sklearn/metrics/_classification.py:1471: UndefinedMetricWarning: Precision is ill-defined and being set to 0.0 due to no predicted samples. Use `zero_division` parameter to control this behavior.\n",
            "  _warn_prf(average, modifier, msg_start, len(result))\n",
            "/usr/local/lib/python3.10/dist-packages/sklearn/metrics/_classification.py:1471: UndefinedMetricWarning: Precision is ill-defined and being set to 0.0 due to no predicted samples. Use `zero_division` parameter to control this behavior.\n",
            "  _warn_prf(average, modifier, msg_start, len(result))\n",
            "/usr/local/lib/python3.10/dist-packages/sklearn/metrics/_classification.py:1760: UndefinedMetricWarning: F-score is ill-defined and being set to 0.0 due to no true nor predicted samples. Use `zero_division` parameter to control this behavior.\n",
            "  _warn_prf(average, \"true nor predicted\", \"F-score is\", len(true_sum))\n",
            "/usr/local/lib/python3.10/dist-packages/sklearn/metrics/_classification.py:1471: UndefinedMetricWarning: Recall is ill-defined and being set to 0.0 due to no true samples. Use `zero_division` parameter to control this behavior.\n",
            "  _warn_prf(average, modifier, msg_start, len(result))\n",
            "/usr/local/lib/python3.10/dist-packages/sklearn/metrics/_classification.py:1471: UndefinedMetricWarning: Precision is ill-defined and being set to 0.0 due to no predicted samples. Use `zero_division` parameter to control this behavior.\n",
            "  _warn_prf(average, modifier, msg_start, len(result))\n",
            "/usr/local/lib/python3.10/dist-packages/sklearn/metrics/_classification.py:1471: UndefinedMetricWarning: Precision is ill-defined and being set to 0.0 due to no predicted samples. Use `zero_division` parameter to control this behavior.\n",
            "  _warn_prf(average, modifier, msg_start, len(result))\n",
            "/usr/local/lib/python3.10/dist-packages/sklearn/metrics/_classification.py:1471: UndefinedMetricWarning: Precision is ill-defined and being set to 0.0 due to no predicted samples. Use `zero_division` parameter to control this behavior.\n",
            "  _warn_prf(average, modifier, msg_start, len(result))\n",
            "/usr/local/lib/python3.10/dist-packages/sklearn/metrics/_classification.py:1471: UndefinedMetricWarning: Precision is ill-defined and being set to 0.0 due to no predicted samples. Use `zero_division` parameter to control this behavior.\n",
            "  _warn_prf(average, modifier, msg_start, len(result))\n",
            "/usr/local/lib/python3.10/dist-packages/sklearn/metrics/_classification.py:1471: UndefinedMetricWarning: Precision is ill-defined and being set to 0.0 due to no predicted samples. Use `zero_division` parameter to control this behavior.\n",
            "  _warn_prf(average, modifier, msg_start, len(result))\n",
            "/usr/local/lib/python3.10/dist-packages/sklearn/metrics/_classification.py:1760: UndefinedMetricWarning: F-score is ill-defined and being set to 0.0 due to no true nor predicted samples. Use `zero_division` parameter to control this behavior.\n",
            "  _warn_prf(average, \"true nor predicted\", \"F-score is\", len(true_sum))\n",
            "/usr/local/lib/python3.10/dist-packages/sklearn/metrics/_classification.py:1471: UndefinedMetricWarning: Recall is ill-defined and being set to 0.0 due to no true samples. Use `zero_division` parameter to control this behavior.\n",
            "  _warn_prf(average, modifier, msg_start, len(result))\n",
            "/usr/local/lib/python3.10/dist-packages/sklearn/metrics/_classification.py:1471: UndefinedMetricWarning: Precision is ill-defined and being set to 0.0 due to no predicted samples. Use `zero_division` parameter to control this behavior.\n",
            "  _warn_prf(average, modifier, msg_start, len(result))\n",
            "/usr/local/lib/python3.10/dist-packages/sklearn/metrics/_classification.py:1471: UndefinedMetricWarning: Precision is ill-defined and being set to 0.0 due to no predicted samples. Use `zero_division` parameter to control this behavior.\n",
            "  _warn_prf(average, modifier, msg_start, len(result))\n",
            "/usr/local/lib/python3.10/dist-packages/sklearn/metrics/_classification.py:1471: UndefinedMetricWarning: Precision is ill-defined and being set to 0.0 due to no predicted samples. Use `zero_division` parameter to control this behavior.\n",
            "  _warn_prf(average, modifier, msg_start, len(result))\n",
            "/usr/local/lib/python3.10/dist-packages/sklearn/metrics/_classification.py:1760: UndefinedMetricWarning: F-score is ill-defined and being set to 0.0 due to no true nor predicted samples. Use `zero_division` parameter to control this behavior.\n",
            "  _warn_prf(average, \"true nor predicted\", \"F-score is\", len(true_sum))\n",
            "/usr/local/lib/python3.10/dist-packages/sklearn/metrics/_classification.py:1471: UndefinedMetricWarning: Recall is ill-defined and being set to 0.0 due to no true samples. Use `zero_division` parameter to control this behavior.\n",
            "  _warn_prf(average, modifier, msg_start, len(result))\n",
            "/usr/local/lib/python3.10/dist-packages/sklearn/metrics/_classification.py:1471: UndefinedMetricWarning: Precision is ill-defined and being set to 0.0 due to no predicted samples. Use `zero_division` parameter to control this behavior.\n",
            "  _warn_prf(average, modifier, msg_start, len(result))\n",
            "/usr/local/lib/python3.10/dist-packages/sklearn/metrics/_classification.py:1760: UndefinedMetricWarning: F-score is ill-defined and being set to 0.0 due to no true nor predicted samples. Use `zero_division` parameter to control this behavior.\n",
            "  _warn_prf(average, \"true nor predicted\", \"F-score is\", len(true_sum))\n",
            "/usr/local/lib/python3.10/dist-packages/sklearn/metrics/_classification.py:1471: UndefinedMetricWarning: Recall is ill-defined and being set to 0.0 due to no true samples. Use `zero_division` parameter to control this behavior.\n",
            "  _warn_prf(average, modifier, msg_start, len(result))\n",
            "/usr/local/lib/python3.10/dist-packages/sklearn/metrics/_classification.py:1471: UndefinedMetricWarning: Precision is ill-defined and being set to 0.0 due to no predicted samples. Use `zero_division` parameter to control this behavior.\n",
            "  _warn_prf(average, modifier, msg_start, len(result))\n",
            "/usr/local/lib/python3.10/dist-packages/sklearn/metrics/_classification.py:1471: UndefinedMetricWarning: Precision is ill-defined and being set to 0.0 due to no predicted samples. Use `zero_division` parameter to control this behavior.\n",
            "  _warn_prf(average, modifier, msg_start, len(result))\n",
            "/usr/local/lib/python3.10/dist-packages/sklearn/metrics/_classification.py:1471: UndefinedMetricWarning: Precision is ill-defined and being set to 0.0 due to no predicted samples. Use `zero_division` parameter to control this behavior.\n",
            "  _warn_prf(average, modifier, msg_start, len(result))\n",
            "/usr/local/lib/python3.10/dist-packages/sklearn/metrics/_classification.py:1471: UndefinedMetricWarning: Precision is ill-defined and being set to 0.0 due to no predicted samples. Use `zero_division` parameter to control this behavior.\n",
            "  _warn_prf(average, modifier, msg_start, len(result))\n",
            "/usr/local/lib/python3.10/dist-packages/sklearn/metrics/_classification.py:1760: UndefinedMetricWarning: F-score is ill-defined and being set to 0.0 due to no true nor predicted samples. Use `zero_division` parameter to control this behavior.\n",
            "  _warn_prf(average, \"true nor predicted\", \"F-score is\", len(true_sum))\n",
            "/usr/local/lib/python3.10/dist-packages/sklearn/metrics/_classification.py:1471: UndefinedMetricWarning: Recall is ill-defined and being set to 0.0 due to no true samples. Use `zero_division` parameter to control this behavior.\n",
            "  _warn_prf(average, modifier, msg_start, len(result))\n",
            "/usr/local/lib/python3.10/dist-packages/sklearn/metrics/_classification.py:1471: UndefinedMetricWarning: Precision is ill-defined and being set to 0.0 due to no predicted samples. Use `zero_division` parameter to control this behavior.\n",
            "  _warn_prf(average, modifier, msg_start, len(result))\n",
            "/usr/local/lib/python3.10/dist-packages/sklearn/metrics/_classification.py:1760: UndefinedMetricWarning: F-score is ill-defined and being set to 0.0 due to no true nor predicted samples. Use `zero_division` parameter to control this behavior.\n",
            "  _warn_prf(average, \"true nor predicted\", \"F-score is\", len(true_sum))\n",
            "/usr/local/lib/python3.10/dist-packages/sklearn/metrics/_classification.py:1471: UndefinedMetricWarning: Recall is ill-defined and being set to 0.0 due to no true samples. Use `zero_division` parameter to control this behavior.\n",
            "  _warn_prf(average, modifier, msg_start, len(result))\n",
            "/usr/local/lib/python3.10/dist-packages/sklearn/metrics/_classification.py:1471: UndefinedMetricWarning: Precision is ill-defined and being set to 0.0 due to no predicted samples. Use `zero_division` parameter to control this behavior.\n",
            "  _warn_prf(average, modifier, msg_start, len(result))\n",
            "/usr/local/lib/python3.10/dist-packages/sklearn/metrics/_classification.py:1760: UndefinedMetricWarning: F-score is ill-defined and being set to 0.0 due to no true nor predicted samples. Use `zero_division` parameter to control this behavior.\n",
            "  _warn_prf(average, \"true nor predicted\", \"F-score is\", len(true_sum))\n",
            "/usr/local/lib/python3.10/dist-packages/sklearn/metrics/_classification.py:1471: UndefinedMetricWarning: Recall is ill-defined and being set to 0.0 due to no true samples. Use `zero_division` parameter to control this behavior.\n",
            "  _warn_prf(average, modifier, msg_start, len(result))\n",
            "/usr/local/lib/python3.10/dist-packages/sklearn/metrics/_classification.py:1471: UndefinedMetricWarning: Precision is ill-defined and being set to 0.0 due to no predicted samples. Use `zero_division` parameter to control this behavior.\n",
            "  _warn_prf(average, modifier, msg_start, len(result))\n",
            "/usr/local/lib/python3.10/dist-packages/sklearn/metrics/_classification.py:1471: UndefinedMetricWarning: Precision is ill-defined and being set to 0.0 due to no predicted samples. Use `zero_division` parameter to control this behavior.\n",
            "  _warn_prf(average, modifier, msg_start, len(result))\n",
            "/usr/local/lib/python3.10/dist-packages/sklearn/metrics/_classification.py:1760: UndefinedMetricWarning: F-score is ill-defined and being set to 0.0 due to no true nor predicted samples. Use `zero_division` parameter to control this behavior.\n",
            "  _warn_prf(average, \"true nor predicted\", \"F-score is\", len(true_sum))\n",
            "/usr/local/lib/python3.10/dist-packages/sklearn/metrics/_classification.py:1471: UndefinedMetricWarning: Recall is ill-defined and being set to 0.0 due to no true samples. Use `zero_division` parameter to control this behavior.\n",
            "  _warn_prf(average, modifier, msg_start, len(result))\n",
            "/usr/local/lib/python3.10/dist-packages/sklearn/metrics/_classification.py:1471: UndefinedMetricWarning: Precision is ill-defined and being set to 0.0 due to no predicted samples. Use `zero_division` parameter to control this behavior.\n",
            "  _warn_prf(average, modifier, msg_start, len(result))\n",
            "/usr/local/lib/python3.10/dist-packages/sklearn/metrics/_classification.py:1471: UndefinedMetricWarning: Precision is ill-defined and being set to 0.0 due to no predicted samples. Use `zero_division` parameter to control this behavior.\n",
            "  _warn_prf(average, modifier, msg_start, len(result))\n",
            "/usr/local/lib/python3.10/dist-packages/sklearn/metrics/_classification.py:1760: UndefinedMetricWarning: F-score is ill-defined and being set to 0.0 due to no true nor predicted samples. Use `zero_division` parameter to control this behavior.\n",
            "  _warn_prf(average, \"true nor predicted\", \"F-score is\", len(true_sum))\n",
            "/usr/local/lib/python3.10/dist-packages/sklearn/metrics/_classification.py:1471: UndefinedMetricWarning: Recall is ill-defined and being set to 0.0 due to no true samples. Use `zero_division` parameter to control this behavior.\n",
            "  _warn_prf(average, modifier, msg_start, len(result))\n",
            "/usr/local/lib/python3.10/dist-packages/sklearn/metrics/_classification.py:1471: UndefinedMetricWarning: Precision is ill-defined and being set to 0.0 due to no predicted samples. Use `zero_division` parameter to control this behavior.\n",
            "  _warn_prf(average, modifier, msg_start, len(result))\n",
            "/usr/local/lib/python3.10/dist-packages/sklearn/metrics/_classification.py:1760: UndefinedMetricWarning: F-score is ill-defined and being set to 0.0 due to no true nor predicted samples. Use `zero_division` parameter to control this behavior.\n",
            "  _warn_prf(average, \"true nor predicted\", \"F-score is\", len(true_sum))\n",
            "/usr/local/lib/python3.10/dist-packages/sklearn/metrics/_classification.py:1471: UndefinedMetricWarning: Recall is ill-defined and being set to 0.0 due to no true samples. Use `zero_division` parameter to control this behavior.\n",
            "  _warn_prf(average, modifier, msg_start, len(result))\n",
            "/usr/local/lib/python3.10/dist-packages/sklearn/metrics/_classification.py:1471: UndefinedMetricWarning: Precision is ill-defined and being set to 0.0 due to no predicted samples. Use `zero_division` parameter to control this behavior.\n",
            "  _warn_prf(average, modifier, msg_start, len(result))\n",
            "/usr/local/lib/python3.10/dist-packages/sklearn/metrics/_classification.py:1471: UndefinedMetricWarning: Precision is ill-defined and being set to 0.0 due to no predicted samples. Use `zero_division` parameter to control this behavior.\n",
            "  _warn_prf(average, modifier, msg_start, len(result))\n",
            "/usr/local/lib/python3.10/dist-packages/sklearn/metrics/_classification.py:1471: UndefinedMetricWarning: Precision is ill-defined and being set to 0.0 due to no predicted samples. Use `zero_division` parameter to control this behavior.\n",
            "  _warn_prf(average, modifier, msg_start, len(result))\n"
          ]
        }
      ]
    },
    {
      "cell_type": "code",
      "source": [
        "print(df)"
      ],
      "metadata": {
        "colab": {
          "base_uri": "https://localhost:8080/"
        },
        "id": "iYYk929tuQan",
        "outputId": "dfacec5f-a488-4d10-cae8-db11403ff50f"
      },
      "execution_count": 15,
      "outputs": [
        {
          "output_type": "stream",
          "name": "stdout",
          "text": [
            "   Class  Accuracy  Precision   F1  Recall\n",
            "0    WNL  0.764778        0.0  0.0     0.0\n",
            "1     DR  0.826355        0.0  0.0     0.0\n",
            "2   ARMD  0.955665        0.0  0.0     0.0\n",
            "3     MH  0.862069        0.0  0.0     0.0\n",
            "4     DN  0.947044        0.0  0.0     0.0\n",
            "5    MYA  0.950739        0.0  0.0     0.0\n",
            "6   BRVO  0.963054        0.0  0.0     0.0\n",
            "7   TSLN  0.921182        0.0  0.0     0.0\n",
            "8    ERM  0.995074        0.0  0.0     0.0\n",
            "9     LS  0.982759        0.0  0.0     0.0\n",
            "10    MS  0.987685        0.0  0.0     0.0\n",
            "11   CSR  0.980296        0.0  0.0     0.0\n",
            "12   ODC  0.875616        0.0  0.0     0.0\n",
            "13  CRVO  0.987685        0.0  0.0     0.0\n",
            "14    TV  0.993842        0.0  0.0     0.0\n",
            "15    AH  0.996305        0.0  0.0     0.0\n",
            "16   ODP  0.960591        0.0  0.0     0.0\n",
            "17   ODE  0.966749        0.0  0.0     0.0\n",
            "18    ST  0.995074        0.0  0.0     0.0\n",
            "19  AION  0.995074        0.0  0.0     0.0\n",
            "20    PT  0.995074        0.0  0.0     0.0\n",
            "21    RT  0.977833        0.0  0.0     0.0\n",
            "22    RS  0.979064        0.0  0.0     0.0\n",
            "23   CRS  0.974138        0.0  0.0     0.0\n",
            "24   EDN  0.983990        0.0  0.0     0.0\n",
            "25  RPEC  0.995074        0.0  0.0     0.0\n",
            "26   MHL  0.991379        0.0  0.0     0.0\n",
            "27    RP  0.997537        0.0  0.0     0.0\n",
            "28   CWS  0.991379        0.0  0.0     0.0\n",
            "29    CB  0.998768        0.0  0.0     0.0\n",
            "30  ODPM  1.000000        0.0  0.0     0.0\n",
            "31   PRH  0.995074        0.0  0.0     0.0\n",
            "32   MNF  0.998768        0.0  0.0     0.0\n",
            "33    HR  0.986453        0.0  0.0     0.0\n",
            "34  CRAO  1.000000        0.0  0.0     0.0\n",
            "35    TD  0.995074        0.0  0.0     0.0\n",
            "36   CME  0.991379        0.0  0.0     0.0\n",
            "37  PTCR  0.997537        0.0  0.0     0.0\n",
            "38    CF  0.997537        0.0  0.0     0.0\n",
            "39    VH  1.000000        0.0  0.0     0.0\n",
            "40   MCA  0.998768        0.0  0.0     0.0\n",
            "41    VS  0.997537        0.0  0.0     0.0\n",
            "42  BRAO  1.000000        0.0  0.0     0.0\n",
            "43   PLQ  1.000000        0.0  0.0     0.0\n",
            "44  HPED  0.997537        0.0  0.0     0.0\n",
            "45    CL  0.997537        0.0  0.0     0.0\n",
            "46   CNV  0.998768        0.0  0.0     0.0\n",
            "47   CSC  1.000000        0.0  0.0     0.0\n",
            "48   GRT  1.000000        0.0  0.0     0.0\n",
            "49    ME  1.000000        0.0  0.0     0.0\n",
            "50   ON   0.998768        0.0  0.0     0.0\n",
            "51  OPDM  1.000000        0.0  0.0     0.0\n",
            "52    RD  0.997537        0.0  0.0     0.0\n",
            "53   RHL  1.000000        0.0  0.0     0.0\n",
            "54   RTR  1.000000        0.0  0.0     0.0\n",
            "55  SOFE  0.998768        0.0  0.0     0.0\n",
            "56   HTN  0.996305        0.0  0.0     0.0\n",
            "57   IIH  0.996305        0.0  0.0     0.0\n"
          ]
        }
      ]
    }
  ]
}